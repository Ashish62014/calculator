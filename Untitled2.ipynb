{
  "nbformat": 4,
  "nbformat_minor": 0,
  "metadata": {
    "colab": {
      "provenance": [],
      "authorship_tag": "ABX9TyPdC8Tn/zq6qfHS1czZd5H6",
      "include_colab_link": true
    },
    "kernelspec": {
      "name": "python3",
      "display_name": "Python 3"
    },
    "language_info": {
      "name": "python"
    }
  },
  "cells": [
    {
      "cell_type": "markdown",
      "metadata": {
        "id": "view-in-github",
        "colab_type": "text"
      },
      "source": [
        "<a href=\"https://colab.research.google.com/github/Ashish62014/calculator/blob/main/Untitled2.ipynb\" target=\"_parent\"><img src=\"https://colab.research.google.com/assets/colab-badge.svg\" alt=\"Open In Colab\"/></a>"
      ]
    },
    {
      "cell_type": "code",
      "execution_count": null,
      "metadata": {
        "colab": {
          "base_uri": "https://localhost:8080/"
        },
        "id": "KeuFMFYr1puD",
        "outputId": "5772dfae-5a09-4bf7-8c9e-1c0d2452b238"
      },
      "outputs": [
        {
          "output_type": "stream",
          "name": "stdout",
          "text": [
            "🌍 AI Trip Planner Based on Season & Weather\n",
            "Enter the month you plan to travel (1-12): 2\n",
            "Enter your preferred region (Asia, Europe, America): asia\n",
            "\n",
            "🗓️ You selected Winter season.\n",
            "🌎 Suggested destinations in Asia:\n",
            " - Sapporo, Japan (snow festivals)\n",
            " - Shimla, India (snowy mountains)\n",
            " - Harbin, China (ice sculpture festival)\n"
          ]
        }
      ],
      "source": [
        "# 🧠 AI Trip Planner based on Weather/Season\n",
        "from datetime import datetime\n",
        "\n",
        "# Define seasons based on month\n",
        "def get_season(month):\n",
        "    if month in [12, 1, 2]:\n",
        "        return \"Winter\"\n",
        "    elif month in [3, 4, 5]:\n",
        "        return \"Spring\"\n",
        "    elif month in [6, 7, 8]:\n",
        "        return \"Summer\"\n",
        "    elif month in [9, 10, 11]:\n",
        "        return \"Autumn\"\n",
        "    else:\n",
        "        return \"Unknown\"\n",
        "\n",
        "# Sample trip recommendations by season and location\n",
        "recommendations = {\n",
        "    \"Winter\": {\n",
        "        \"Asia\": [\"Sapporo, Japan (snow festivals)\", \"Shimla, India (snowy mountains)\", \"Harbin, China (ice sculpture festival)\"],\n",
        "        \"Europe\": [\"Zermatt, Switzerland\", \"Reykjavík, Iceland\", \"Lapland, Finland (Northern Lights)\"],\n",
        "        \"America\": [\"Banff, Canada\", \"Colorado, USA (skiing)\", \"Patagonia, Chile (cool hikes)\"]\n",
        "    },\n",
        "    \"Spring\": {\n",
        "        \"Asia\": [\"Kyoto, Japan (cherry blossoms)\", \"Jeju Island, South Korea\", \"Nikko, Japan\"],\n",
        "        \"Europe\": [\"Amsterdam, Netherlands (tulips)\", \"Paris, France\", \"Barcelona, Spain\"],\n",
        "        \"America\": [\"Washington D.C. (cherry blossoms)\", \"California coast\", \"Savannah, Georgia\"]\n",
        "    },\n",
        "    \"Summer\": {\n",
        "        \"Asia\": [\"Bali, Indonesia\", \"Hokkaido, Japan\", \"Sri Lanka beaches\"],\n",
        "        \"Europe\": [\"Greek Islands\", \"Cinque Terre, Italy\", \"Norwegian Fjords\"],\n",
        "        \"America\": [\"Alaska, USA\", \"Yosemite, USA\", \"Quebec, Canada\"]\n",
        "    },\n",
        "    \"Autumn\": {\n",
        "        \"Asia\": [\"Seoul, South Korea (autumn leaves)\", \"Taipei, Taiwan\", \"Bhutan\"],\n",
        "        \"Europe\": [\"Prague, Czech Republic\", \"Bavaria, Germany\", \"Budapest, Hungary\"],\n",
        "        \"America\": [\"Vermont, USA (fall foliage)\", \"Rocky Mountains\", \"Napa Valley, CA\"]\n",
        "    }\n",
        "}\n",
        "\n",
        "# Main planner function\n",
        "def trip_planner():\n",
        "    print(\"🌍 AI Trip Planner Based on Season & Weather\")\n",
        "    month_input = input(\"Enter the month you plan to travel (1-12): \")\n",
        "    region_input = input(\"Enter your preferred region (Asia, Europe, America): \").capitalize()\n",
        "\n",
        "    try:\n",
        "        month = int(month_input)\n",
        "        season = get_season(month)\n",
        "\n",
        "        print(f\"\\n🗓️ You selected {season} season.\")\n",
        "        print(f\"🌎 Suggested destinations in {region_input}:\")\n",
        "\n",
        "        if season in recommendations and region_input in recommendations[season]:\n",
        "            for place in recommendations[season][region_input]:\n",
        "                print(f\" - {place}\")\n",
        "        else:\n",
        "            print(\"Sorry, we don't have recommendations for that combination yet.\")\n",
        "    except ValueError:\n",
        "        print(\"Please enter a valid month as a number from 1 to 12.\")\n",
        "\n",
        "# Run the planner\n",
        "trip_planner()\n"
      ]
    }
  ]
}